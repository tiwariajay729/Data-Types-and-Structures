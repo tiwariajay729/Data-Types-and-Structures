{
  "nbformat": 4,
  "nbformat_minor": 0,
  "metadata": {
    "colab": {
      "provenance": []
    },
    "kernelspec": {
      "name": "python3",
      "display_name": "Python 3"
    },
    "language_info": {
      "name": "python"
    }
  },
  "cells": [
    {
      "cell_type": "markdown",
      "source": [
        "Q1 - What are data structures, and why are they important?"
      ],
      "metadata": {
        "id": "tVWO4QQf59NJ"
      }
    },
    {
      "cell_type": "markdown",
      "source": [
        "Ans : Data structures in Python are ways to organize data so it can be accessed efficiently.\n",
        "\n",
        "They are important because Data structures make it easier to access data efficiently. They are the fundamentals for building programs in Python. They allows to organize data in a way that's best for use case. Data structures make it easier to access data efficiently."
      ],
      "metadata": {
        "id": "K-UQA21q6UDz"
      }
    },
    {
      "cell_type": "markdown",
      "source": [
        "Q2 - Explain the difference between mutable and immutable data types with examples?"
      ],
      "metadata": {
        "id": "nzzhk9Zs8a2Z"
      }
    },
    {
      "cell_type": "markdown",
      "source": [
        "Ans : Mutable data types can be changed after they are created, while immutable data types cannot be changed after theya rer creates.\n",
        "\n",
        "Mutable data types:\n",
        "\n",
        "Examples: Lists, dictionaries, and sets.\n",
        "\n",
        "You can add, remove, or update their properties or elements.\n",
        "\n",
        "Immutable data types:\n",
        "\n",
        "Examples: Strings, tuples, integers, and floats.\n",
        "\n",
        "You cannot change their values or properties directly"
      ],
      "metadata": {
        "id": "iUxa5OvT8nfC"
      }
    },
    {
      "cell_type": "markdown",
      "source": [
        "Q3 - What are the main differences between lists and tuples in Python?"
      ],
      "metadata": {
        "id": "e4QRfdo78ezB"
      }
    },
    {
      "cell_type": "markdown",
      "source": [
        "Ans : The main difference between lists and tuples in Python is that lists are mutable, while tuples are immutable. This means that lists can be modified, while tuples cannot be modified."
      ],
      "metadata": {
        "id": "k5Q4qXEv9Z3E"
      }
    },
    {
      "cell_type": "markdown",
      "source": [
        "Q4 - Describe how dictionaries store data?"
      ],
      "metadata": {
        "id": "EogJkPTC9OdC"
      }
    },
    {
      "cell_type": "markdown",
      "source": [
        "Ans - Dictionaries are used to store data values in key:value pairs. A dictionary is a collection which is ordered*, changeable and do not allow duplicates."
      ],
      "metadata": {
        "id": "Qe3HozW09uqI"
      }
    },
    {
      "cell_type": "markdown",
      "source": [
        "Q5 - Why might you use a set instead of a list in Python?"
      ],
      "metadata": {
        "id": "CX90Y3S391wZ"
      }
    },
    {
      "cell_type": "markdown",
      "source": [
        "Ans : Users prefer sets as they are standard Python data type that also store values. The major difference is that sets, unlike lists or tuples, cannot have multiple occurrences of the same element and store unordered values.\n"
      ],
      "metadata": {
        "id": "wJZBVrBJ98Mu"
      }
    },
    {
      "cell_type": "markdown",
      "source": [
        "Q6 - What is a string in Python, and how is it different from a list?"
      ],
      "metadata": {
        "id": "LJVP87Ll-86H"
      }
    },
    {
      "cell_type": "markdown",
      "source": [
        "Ans : A string is a sequence of characters between single or double quotes. A list is a sequence of items, where each item could be anything (an integer, a float, a string, etc)."
      ],
      "metadata": {
        "id": "UhO_bzcw_E4Z"
      }
    },
    {
      "cell_type": "markdown",
      "source": [
        "Q7 - How do tuples ensure data integrity in Python?"
      ],
      "metadata": {
        "id": "FBuoKXDYDT83"
      }
    },
    {
      "cell_type": "markdown",
      "source": [
        "Ans - Tuples are immutable to ensure that their contents remain constant throughout their lifecycle, guaranteeing data integrity and reliability. This immutability allows tuples to be used as keys in dictionaries and elements in sets, as they can be hashed."
      ],
      "metadata": {
        "id": "S_lBdHI4E1sr"
      }
    },
    {
      "cell_type": "markdown",
      "source": [
        "Q8 - What is a hash table, and how does it relate to dictionaries in Python?"
      ],
      "metadata": {
        "id": "bzEiHK47FGYu"
      }
    },
    {
      "cell_type": "markdown",
      "source": [
        "Ans - A hash table is a data structure that's implemented by the dictionary data type (dict). A hash table is a type of associative array that maps keys to values."
      ],
      "metadata": {
        "id": "fDu2UuAMFM29"
      }
    },
    {
      "cell_type": "markdown",
      "source": [
        "Q9 - Can lists contain different data types in Python?"
      ],
      "metadata": {
        "id": "dSgGPMxwFlUK"
      }
    },
    {
      "cell_type": "markdown",
      "source": [
        "Ans - In a list, you can store objects of any type. You can also mix objects of different types within the same list, although list elements often share the same type."
      ],
      "metadata": {
        "id": "rTrle12kFvkD"
      }
    },
    {
      "cell_type": "markdown",
      "source": [
        "Q10 - Explain why strings are immutable in Python?"
      ],
      "metadata": {
        "id": "gR0x2M1-GJJW"
      }
    },
    {
      "cell_type": "markdown",
      "source": [
        "Ans - If the string object can be modified, its value can be changed, and because of this, the class that will be loaded will be different. To avoid such misinterpretation, strings are immutable."
      ],
      "metadata": {
        "id": "0t2iNE2VNa_p"
      }
    },
    {
      "cell_type": "markdown",
      "source": [
        "Q11 - What advantages do dictionaries offer over lists for certain tasks?"
      ],
      "metadata": {
        "id": "PVwoaQS7Ne90"
      }
    },
    {
      "cell_type": "markdown",
      "source": [
        "Ans - Dictionaries have several advantages over lists for certain tasks, including faster lookups, easier code reading, and more compact code."
      ],
      "metadata": {
        "id": "wM8kjgcqNlqe"
      }
    },
    {
      "cell_type": "markdown",
      "source": [
        "Q12 - Describe a scenario where using a tuple would be preferable over a list?"
      ],
      "metadata": {
        "id": "0OwL31zHOfSw"
      }
    },
    {
      "cell_type": "markdown",
      "source": [
        "Ans - Tuples can't be changed after they're created, but lists can be modified. Tuples use less memory than lists. They are also a bit faster, especially when you're just looking up values. So, if you have data that you don't want to change, it's better to use tuples instead of lists."
      ],
      "metadata": {
        "id": "Uz96MBEZO9yE"
      }
    },
    {
      "cell_type": "markdown",
      "source": [
        "Q 13 - How do sets handle duplicate values in Python?"
      ],
      "metadata": {
        "id": "U26beC8uPNJT"
      }
    },
    {
      "cell_type": "markdown",
      "source": [
        "Ans - Items of a set in python are immutable (unchangeable), do not duplicate values, and unordered. Thus, items in a set do not appear in a stipulated manner, i.e., they can appear in a different order every time it is used. Due to this, set items cannot be referred to by key or index."
      ],
      "metadata": {
        "id": "kQoVPpHPPakW"
      }
    },
    {
      "cell_type": "markdown",
      "source": [
        "Q14 - How does the “in” keyword work differently for lists and dictionaries?"
      ],
      "metadata": {
        "id": "twd70xvKQCjW"
      }
    },
    {
      "cell_type": "markdown",
      "source": [
        "Ans - The \"in\" keyword allows developers to test whether strings, tuples, lists and other sequence-based data types contain a certain value. in keyword can be used to test whether certain characters are present in a string or a certain value present in a list or tuple.\n",
        "\n",
        "wheras The \"in\" and \"not in\" operator works on dictionaries in this way ; it tells you whether something appears or not as a key in the dictionary. It returns two values True or False."
      ],
      "metadata": {
        "id": "bAf_mLdVQGSt"
      }
    },
    {
      "cell_type": "markdown",
      "source": [
        "Q15 - Can you modify the elements of a tuple? Explain why or why not?"
      ],
      "metadata": {
        "id": "pH4qJxLlRmyU"
      }
    },
    {
      "cell_type": "markdown",
      "source": [
        "Ans - No, you cannot directly modify the elements of a tuple in Python because tuples are \"immutable,\" meaning once created, their elements cannot be changed, added, or removed; this is a key distinction between tuples and lists, which are mutable and allow for element modifications"
      ],
      "metadata": {
        "id": "eoBfo_EcRzuq"
      }
    },
    {
      "cell_type": "markdown",
      "source": [
        "Q16 - What is a nested dictionary, and give an example of its use case?"
      ],
      "metadata": {
        "id": "in4MpuOiR1-_"
      }
    },
    {
      "cell_type": "markdown",
      "source": [
        "Ans - A nested dictionary is a dictionary that is stored as a value within another dictionary. It is a powerful concept in programming that allows for storing data with multiple layers of organization.\n",
        "\n",
        "Example use case - Inventory systems: Track product categories, subcategories, and individual product details."
      ],
      "metadata": {
        "id": "L3mXzvptSBhP"
      }
    },
    {
      "cell_type": "markdown",
      "source": [
        "Q17 - Describe the time complexity of accessing elements in a dictionary?"
      ],
      "metadata": {
        "id": "uRoMbYd9SNr5"
      }
    },
    {
      "cell_type": "markdown",
      "source": [
        "Ans - The time complexity of retrieving a value by its key in a dictionary is O(1). This is because dictionaries use a hash table internally which allows constant time lookup"
      ],
      "metadata": {
        "id": "AdTIe2g7SZcd"
      }
    },
    {
      "cell_type": "markdown",
      "source": [
        "Q18 - In what situations are lists preferred over dictionaries?"
      ],
      "metadata": {
        "id": "qzxP_dIJSdvS"
      }
    },
    {
      "cell_type": "markdown",
      "source": [
        "Ans - Mutability and Order: While both data structures are mutable, their handling of order differs. Lists maintain the order of elements, whereas dictionaries, despite keeping insertion order from Python, focus on efficient key lookups."
      ],
      "metadata": {
        "id": "rj94n7xRZKzz"
      }
    },
    {
      "cell_type": "markdown",
      "source": [
        "Q19 - Why are dictionaries considered unordered, and how does that affect data retrieval"
      ],
      "metadata": {
        "id": "8RTV5lLcZUCL"
      }
    },
    {
      "cell_type": "markdown",
      "source": [
        "Ans - Dictionaries are considered unordered because they don't maintain the order in which items were added. This is because they're optimized for fast lookups, not for maintaining order."
      ],
      "metadata": {
        "id": "LRWbllcYZWWo"
      }
    },
    {
      "cell_type": "markdown",
      "source": [
        "Q20 - Explain the difference between a list and a dictionary in terms of data retrieval?"
      ],
      "metadata": {
        "id": "m41yrv94Zno8"
      }
    },
    {
      "cell_type": "markdown",
      "source": [
        "Ans - A list is an ordered collection of items, whereas a dictionary is an unordered data collection in a key: value pair. Elements from the list can be accessed using the index, while the elements of the dictionary can be accessed using keys."
      ],
      "metadata": {
        "id": "-shmwGD8ZoDf"
      }
    },
    {
      "cell_type": "markdown",
      "source": [
        "Practical Questions"
      ],
      "metadata": {
        "id": "Loec8O4xZusa"
      }
    },
    {
      "cell_type": "markdown",
      "source": [
        "Q1 - Write a code to create a string with your name and print it?"
      ],
      "metadata": {
        "id": "usbfwUYAZzhs"
      }
    },
    {
      "cell_type": "code",
      "source": [
        "# Ans 1\n",
        "name = \"Ajay Tiwari\"\n",
        "\n",
        "print(name)"
      ],
      "metadata": {
        "colab": {
          "base_uri": "https://localhost:8080/"
        },
        "id": "7HsxxeWyZ5Jd",
        "outputId": "a2fb8f69-fe92-4356-9bf1-0f0a48f31c58"
      },
      "execution_count": 31,
      "outputs": [
        {
          "output_type": "stream",
          "name": "stdout",
          "text": [
            "Ajay Tiwari\n"
          ]
        }
      ]
    },
    {
      "cell_type": "markdown",
      "source": [
        "Q2 - Write a code to find the length of the string \"Hello World\"?"
      ],
      "metadata": {
        "id": "kobHeM5RaKuj"
      }
    },
    {
      "cell_type": "code",
      "source": [
        "#Ans 2\n",
        "\n",
        "text = str(\"Hello World\")\n",
        "\n",
        "length = len(text)\n",
        "\n",
        "print(length)"
      ],
      "metadata": {
        "colab": {
          "base_uri": "https://localhost:8080/"
        },
        "id": "oCpPvd4kaQ7E",
        "outputId": "a4974bbf-72ae-4279-b48c-dcadffbd318a"
      },
      "execution_count": 32,
      "outputs": [
        {
          "output_type": "stream",
          "name": "stdout",
          "text": [
            "11\n"
          ]
        }
      ]
    },
    {
      "cell_type": "markdown",
      "source": [
        "Q3 - Write a code to slice the first 3 characters from the string \"Python Programming?"
      ],
      "metadata": {
        "id": "YT8xFA3vhhqY"
      }
    },
    {
      "cell_type": "code",
      "source": [
        "# Ans 3\n",
        "\n",
        "text = \"Python Programming\"\n",
        "\n",
        "sliced_text = text[:3]\n",
        "\n",
        "print(sliced_text)"
      ],
      "metadata": {
        "colab": {
          "base_uri": "https://localhost:8080/"
        },
        "id": "It48rM8Migcw",
        "outputId": "518abf3d-4b20-479e-c0f3-f2538b703049"
      },
      "execution_count": 33,
      "outputs": [
        {
          "output_type": "stream",
          "name": "stdout",
          "text": [
            "Pyt\n"
          ]
        }
      ]
    },
    {
      "cell_type": "markdown",
      "source": [
        "Q4 - Write a code to convert the string \"hello\" to uppercase?"
      ],
      "metadata": {
        "id": "GO9bwtGsimWj"
      }
    },
    {
      "cell_type": "code",
      "source": [
        "#Ans 4\n",
        "\n",
        "text = \"hello\"\n",
        "\n",
        "uppercase_text = text.upper()\n",
        "\n",
        "print(uppercase_text)"
      ],
      "metadata": {
        "colab": {
          "base_uri": "https://localhost:8080/"
        },
        "id": "bi4eqPI8iq91",
        "outputId": "e6e6c3a0-4894-4b46-e956-4cbf27f0c590"
      },
      "execution_count": 34,
      "outputs": [
        {
          "output_type": "stream",
          "name": "stdout",
          "text": [
            "HELLO\n"
          ]
        }
      ]
    },
    {
      "cell_type": "markdown",
      "source": [
        "Q5 - Write a code to replace the word \"apple\" with \"orange\" in the string \"I like apple\"?"
      ],
      "metadata": {
        "id": "w5zzPdU4i-G9"
      }
    },
    {
      "cell_type": "code",
      "source": [
        "# Ans 5\n",
        "text = \"I like apple\"\n",
        "\n",
        "new_text = text.replace(\"apple\", \"orange\")\n",
        "\n",
        "print(new_text)"
      ],
      "metadata": {
        "colab": {
          "base_uri": "https://localhost:8080/"
        },
        "id": "dJn-Js8gi-oT",
        "outputId": "1fd09a7d-0d05-4542-f64c-055505f87f61"
      },
      "execution_count": 35,
      "outputs": [
        {
          "output_type": "stream",
          "name": "stdout",
          "text": [
            "I like orange\n"
          ]
        }
      ]
    },
    {
      "cell_type": "markdown",
      "source": [
        "Q6 - Write a code to create a list with numbers 1 to 5 and print it?"
      ],
      "metadata": {
        "id": "7_zlcIqHjVN1"
      }
    },
    {
      "cell_type": "code",
      "source": [
        "#Ans 6\n",
        "\n",
        "list = [1,2,3,4,5]\n",
        "\n",
        "print(list)\n",
        "\n",
        "type(list)"
      ],
      "metadata": {
        "colab": {
          "base_uri": "https://localhost:8080/"
        },
        "id": "N218kmAyjY0W",
        "outputId": "dd876329-b71b-45ac-c403-fcce9bad45df"
      },
      "execution_count": 62,
      "outputs": [
        {
          "output_type": "stream",
          "name": "stdout",
          "text": [
            "[1, 2, 3, 4, 5]\n"
          ]
        },
        {
          "output_type": "execute_result",
          "data": {
            "text/plain": [
              "list"
            ]
          },
          "metadata": {},
          "execution_count": 62
        }
      ]
    },
    {
      "cell_type": "markdown",
      "source": [
        "Q7 - Write a code to append the number 10 to the list [1, 2, 3, 4]?"
      ],
      "metadata": {
        "id": "u1OkGe2xj6Gp"
      }
    },
    {
      "cell_type": "code",
      "source": [
        "#Ans 7\n",
        "list.append(10)\n",
        "print(list)"
      ],
      "metadata": {
        "colab": {
          "base_uri": "https://localhost:8080/"
        },
        "id": "o7u3e032j9cA",
        "outputId": "72d63940-2df2-4189-8705-e873a6b9f51f"
      },
      "execution_count": 63,
      "outputs": [
        {
          "output_type": "stream",
          "name": "stdout",
          "text": [
            "[1, 2, 3, 4, 5, 10]\n"
          ]
        }
      ]
    },
    {
      "cell_type": "markdown",
      "source": [
        "Q8 - Write a code to remove the number 3 from the list [1, 2, 3, 4, 5]?"
      ],
      "metadata": {
        "id": "DZ_eECP_kfYO"
      }
    },
    {
      "cell_type": "code",
      "source": [
        "# Ans8\n",
        "\n",
        "list.remove(3)\n",
        "print(list)"
      ],
      "metadata": {
        "colab": {
          "base_uri": "https://localhost:8080/"
        },
        "id": "sDSMjieCkhlc",
        "outputId": "f4e9b77c-b0f0-47c3-b863-efab6eb04d18"
      },
      "execution_count": 64,
      "outputs": [
        {
          "output_type": "stream",
          "name": "stdout",
          "text": [
            "[1, 2, 4, 5, 10]\n"
          ]
        }
      ]
    },
    {
      "cell_type": "markdown",
      "source": [
        "Q9 - Write a code to access the second element in the list ['a', 'b', 'c', 'd']?"
      ],
      "metadata": {
        "id": "83SS4JkelOIt"
      }
    },
    {
      "cell_type": "code",
      "source": [
        "#Ans 9\n",
        "list = ['a', 'b', 'c', 'd']\n",
        "list[1]"
      ],
      "metadata": {
        "colab": {
          "base_uri": "https://localhost:8080/",
          "height": 36
        },
        "id": "_J8Ehh9OlYkj",
        "outputId": "367cf33b-65b1-409a-c2fe-7ddb72794be0"
      },
      "execution_count": 94,
      "outputs": [
        {
          "output_type": "execute_result",
          "data": {
            "text/plain": [
              "'b'"
            ],
            "application/vnd.google.colaboratory.intrinsic+json": {
              "type": "string"
            }
          },
          "metadata": {},
          "execution_count": 94
        }
      ]
    },
    {
      "cell_type": "markdown",
      "source": [
        "Q10 - Write a code to reverse the list [10, 20, 30, 40, 50]?"
      ],
      "metadata": {
        "id": "kBtg4c4Bl6JW"
      }
    },
    {
      "cell_type": "code",
      "source": [
        "#Ans 10\n",
        "list = [10, 20, 30, 40, 50]\n",
        "list.reverse()\n",
        "print(list)"
      ],
      "metadata": {
        "colab": {
          "base_uri": "https://localhost:8080/"
        },
        "id": "tkFYr_f-mCe7",
        "outputId": "c26b4fe1-345f-4270-eddc-b50a20c12090"
      },
      "execution_count": 93,
      "outputs": [
        {
          "output_type": "stream",
          "name": "stdout",
          "text": [
            "[50, 40, 30, 20, 10]\n"
          ]
        }
      ]
    },
    {
      "cell_type": "markdown",
      "source": [
        "Q11 -  Write a code to create a tuple with the elements 10, 20, 30 and print it"
      ],
      "metadata": {
        "id": "RT7zzW5CmQMA"
      }
    },
    {
      "cell_type": "code",
      "source": [
        "# Ans 11\n",
        "tuple = (10,20,30)\n",
        "print(tuple)"
      ],
      "metadata": {
        "colab": {
          "base_uri": "https://localhost:8080/"
        },
        "id": "UGO2Y95cmUT1",
        "outputId": "16d8ef21-d8a4-40c1-dc39-e92961bbe902"
      },
      "execution_count": 92,
      "outputs": [
        {
          "output_type": "stream",
          "name": "stdout",
          "text": [
            "(10, 20, 30)\n"
          ]
        }
      ]
    },
    {
      "cell_type": "markdown",
      "source": [
        "Q12 -  Write a code to access the first element of the tuple ('apple', 'banana', 'cherry')"
      ],
      "metadata": {
        "id": "sn35F5jampYh"
      }
    },
    {
      "cell_type": "code",
      "source": [
        "#Ans 12\n",
        "tuple = ('apple', 'banana', 'cherry')\n",
        "tuple[0]\n"
      ],
      "metadata": {
        "colab": {
          "base_uri": "https://localhost:8080/",
          "height": 36
        },
        "id": "k9qfQwNLmrOJ",
        "outputId": "5e557941-1d2c-4976-dd01-b0eed55664bd"
      },
      "execution_count": 91,
      "outputs": [
        {
          "output_type": "execute_result",
          "data": {
            "text/plain": [
              "'apple'"
            ],
            "application/vnd.google.colaboratory.intrinsic+json": {
              "type": "string"
            }
          },
          "metadata": {},
          "execution_count": 91
        }
      ]
    },
    {
      "cell_type": "markdown",
      "source": [
        "Q13 - Write a code to count how many times the number 2 appears in the tuple (1, 2, 3, 2, 4, 2)"
      ],
      "metadata": {
        "id": "SClUzeuPm7ab"
      }
    },
    {
      "cell_type": "code",
      "source": [
        "#Ans 13\n",
        "tuple = (1,2,3,2,4,2)\n",
        "tuple.count(2)"
      ],
      "metadata": {
        "colab": {
          "base_uri": "https://localhost:8080/"
        },
        "id": "eNjoERbQm9NL",
        "outputId": "3192ea0d-fca9-47c0-fced-ba85393695ef"
      },
      "execution_count": 90,
      "outputs": [
        {
          "output_type": "execute_result",
          "data": {
            "text/plain": [
              "3"
            ]
          },
          "metadata": {},
          "execution_count": 90
        }
      ]
    },
    {
      "cell_type": "markdown",
      "source": [
        "Q14 -  Write a code to find the index of the element \"cat\" in the tuple ('dog', 'cat', 'rabbit')"
      ],
      "metadata": {
        "id": "TDqd_Yh2nLFL"
      }
    },
    {
      "cell_type": "code",
      "source": [
        "# Ans 14\n",
        "tuple = ('dog', 'cat', 'rabbit')\n",
        "index = tuple.index('cat')\n",
        "print(index)"
      ],
      "metadata": {
        "colab": {
          "base_uri": "https://localhost:8080/"
        },
        "id": "KtbSrOujnSVS",
        "outputId": "9b703195-751f-4649-d667-f7302ecae57c"
      },
      "execution_count": 89,
      "outputs": [
        {
          "output_type": "stream",
          "name": "stdout",
          "text": [
            "1\n"
          ]
        }
      ]
    },
    {
      "cell_type": "markdown",
      "source": [
        "Q15 - Write a code to check if the element \"banana\" is in the tuple ('apple', 'orange', 'banana')"
      ],
      "metadata": {
        "id": "4tT8jS5YnkOk"
      }
    },
    {
      "cell_type": "code",
      "source": [
        "#Ans 15\n",
        "tuple = ('apple', 'orange', 'banana')\n",
        "'banana' in tuple"
      ],
      "metadata": {
        "colab": {
          "base_uri": "https://localhost:8080/"
        },
        "id": "h6r48CkVnmj5",
        "outputId": "56fc6d80-ba16-497f-90cf-c0e4ab5a865d"
      },
      "execution_count": 88,
      "outputs": [
        {
          "output_type": "execute_result",
          "data": {
            "text/plain": [
              "True"
            ]
          },
          "metadata": {},
          "execution_count": 88
        }
      ]
    },
    {
      "cell_type": "markdown",
      "source": [
        "Q16 - Write a code to create a set with the elements 1, 2, 3, 4, 5 and print it?"
      ],
      "metadata": {
        "id": "agteVG1NpTfk"
      }
    },
    {
      "cell_type": "code",
      "source": [
        "#Ans 16\n",
        "set = {1,2,3,4,5}\n",
        "print(set)"
      ],
      "metadata": {
        "colab": {
          "base_uri": "https://localhost:8080/"
        },
        "id": "XIYQIuArpS1r",
        "outputId": "87275b43-f180-4ecd-c710-ef27fcfb069d"
      },
      "execution_count": 97,
      "outputs": [
        {
          "output_type": "stream",
          "name": "stdout",
          "text": [
            "{1, 2, 3, 4, 5}\n"
          ]
        }
      ]
    },
    {
      "cell_type": "markdown",
      "source": [
        "Q17 - Write a code to add the element 6 to the set {1, 2, 3, 4}?"
      ],
      "metadata": {
        "id": "_E0JsIwrpiln"
      }
    },
    {
      "cell_type": "code",
      "source": [
        "#Ans 17\n",
        "set = {1,2,3,4,5}\n",
        "set.add(6)\n",
        "print(set)"
      ],
      "metadata": {
        "colab": {
          "base_uri": "https://localhost:8080/"
        },
        "id": "sshp8FPOpnhM",
        "outputId": "561321e3-f504-4f9d-e9b4-d0c411008fea"
      },
      "execution_count": 98,
      "outputs": [
        {
          "output_type": "stream",
          "name": "stdout",
          "text": [
            "{1, 2, 3, 4, 5, 6}\n"
          ]
        }
      ]
    },
    {
      "cell_type": "markdown",
      "source": [
        "Q18 - Write a code to create a tuple with the elements 10, 20, 30 and print it"
      ],
      "metadata": {
        "id": "sLuiWMylpw-W"
      }
    },
    {
      "cell_type": "code",
      "source": [
        "# Ans 18\n",
        "tuple= [10,20,30]\n",
        "print(tuple)"
      ],
      "metadata": {
        "colab": {
          "base_uri": "https://localhost:8080/"
        },
        "id": "BUKwlaVRp7nu",
        "outputId": "1bb174f5-4a37-471c-e367-4d3a7cd807eb"
      },
      "execution_count": 99,
      "outputs": [
        {
          "output_type": "stream",
          "name": "stdout",
          "text": [
            "[10, 20, 30]\n"
          ]
        }
      ]
    },
    {
      "cell_type": "markdown",
      "source": [
        "Q19 -  Write a code to access the first element of the tuple ('apple', 'banana', 'cherry')."
      ],
      "metadata": {
        "id": "c4piknVoqIOS"
      }
    },
    {
      "cell_type": "code",
      "source": [
        "#Ans 19\n",
        "tuple = ('apple', 'banana', 'cherry')\n",
        "tuple[0]"
      ],
      "metadata": {
        "colab": {
          "base_uri": "https://localhost:8080/",
          "height": 36
        },
        "id": "qugyql7NqNbT",
        "outputId": "967c0805-809b-470a-e304-1dee177b3895"
      },
      "execution_count": 100,
      "outputs": [
        {
          "output_type": "execute_result",
          "data": {
            "text/plain": [
              "'apple'"
            ],
            "application/vnd.google.colaboratory.intrinsic+json": {
              "type": "string"
            }
          },
          "metadata": {},
          "execution_count": 100
        }
      ]
    },
    {
      "cell_type": "markdown",
      "source": [
        "Q20 -  Write a code to count how many times the number 2 appears in the tuple (1, 2, 3, 2, 4, 2)"
      ],
      "metadata": {
        "id": "Qkw5N2OoqWJo"
      }
    },
    {
      "cell_type": "code",
      "source": [
        "# Ans 20\n",
        "tuple = (1, 2, 3, 2, 4, 2)\n",
        "tuple.count(2)"
      ],
      "metadata": {
        "colab": {
          "base_uri": "https://localhost:8080/"
        },
        "id": "I1MaNfAyqYhk",
        "outputId": "1b2c23fa-eae6-4b45-8f2c-b635857e474f"
      },
      "execution_count": 101,
      "outputs": [
        {
          "output_type": "execute_result",
          "data": {
            "text/plain": [
              "3"
            ]
          },
          "metadata": {},
          "execution_count": 101
        }
      ]
    },
    {
      "cell_type": "markdown",
      "source": [
        "Q21 - Write a code to find the index of the element \"cat\" in the tuple ('dog', 'cat', 'rabbit')"
      ],
      "metadata": {
        "id": "0THxf1kmqp0n"
      }
    },
    {
      "cell_type": "code",
      "source": [
        "# Ans 21\n",
        "tuple = ('dog', 'cat', 'rabbit')\n",
        "tuple.index('cat')"
      ],
      "metadata": {
        "colab": {
          "base_uri": "https://localhost:8080/"
        },
        "id": "eYLKTDfkqtju",
        "outputId": "c26cf013-9072-4e2a-b230-315d7a02285f"
      },
      "execution_count": 102,
      "outputs": [
        {
          "output_type": "execute_result",
          "data": {
            "text/plain": [
              "1"
            ]
          },
          "metadata": {},
          "execution_count": 102
        }
      ]
    },
    {
      "cell_type": "markdown",
      "source": [
        "Q22 - Write a code to check if the element \"banana\" is in the tuple ('apple', 'orange', 'banana')"
      ],
      "metadata": {
        "id": "hj0C-qdcodsI"
      }
    },
    {
      "cell_type": "code",
      "source": [
        "#Ans 22\n",
        "tuple = ('apple', 'orange', 'banana')\n",
        " 'banana' in tuple"
      ],
      "metadata": {
        "colab": {
          "base_uri": "https://localhost:8080/"
        },
        "id": "3nyvk_dr3rpQ",
        "outputId": "a0bdc63d-ebad-4f30-c927-cbe2f02573d3"
      },
      "execution_count": 103,
      "outputs": [
        {
          "output_type": "execute_result",
          "data": {
            "text/plain": [
              "True"
            ]
          },
          "metadata": {},
          "execution_count": 103
        }
      ]
    },
    {
      "cell_type": "markdown",
      "source": [
        "Q23 -  Write a code to create a set with the elements 1, 2, 3, 4, 5 and print it"
      ],
      "metadata": {
        "id": "pIdVOB9V37MK"
      }
    },
    {
      "cell_type": "code",
      "source": [
        "#Ans 23\n",
        "set = {1,2,3,4,5}\n",
        "print(set)"
      ],
      "metadata": {
        "colab": {
          "base_uri": "https://localhost:8080/"
        },
        "id": "pAZdNi_d4Bwm",
        "outputId": "3c3189fa-4192-49bc-a2bf-fe21c05da087"
      },
      "execution_count": 104,
      "outputs": [
        {
          "output_type": "stream",
          "name": "stdout",
          "text": [
            "{1, 2, 3, 4, 5}\n"
          ]
        }
      ]
    },
    {
      "cell_type": "markdown",
      "source": [
        "Q24 - Write a code to add the element 6 to the set {1, 2, 3, 4}"
      ],
      "metadata": {
        "id": "pFbVLg1h4KuA"
      }
    },
    {
      "cell_type": "code",
      "source": [
        "#Ans 24\n",
        "set = {1,2,3,4,5}\n",
        "set.add(6)\n",
        "print(set)"
      ],
      "metadata": {
        "colab": {
          "base_uri": "https://localhost:8080/"
        },
        "id": "Zq2UuSi-4Nim",
        "outputId": "076e94a3-d09b-4189-d3b3-8995430b35d2"
      },
      "execution_count": 105,
      "outputs": [
        {
          "output_type": "stream",
          "name": "stdout",
          "text": [
            "{1, 2, 3, 4, 5, 6}\n"
          ]
        }
      ]
    }
  ]
}